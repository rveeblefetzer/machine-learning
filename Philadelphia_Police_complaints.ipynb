{
 "cells": [
  {
   "cell_type": "code",
   "execution_count": 1,
   "metadata": {
    "collapsed": true
   },
   "outputs": [],
   "source": [
    "import numpy as np"
   ]
  },
  {
   "cell_type": "code",
   "execution_count": 2,
   "metadata": {
    "collapsed": true
   },
   "outputs": [],
   "source": [
    "import pandas as pd"
   ]
  },
  {
   "cell_type": "code",
   "execution_count": 3,
   "metadata": {
    "collapsed": true
   },
   "outputs": [],
   "source": [
    "import matplotlib.pyplot as plt"
   ]
  },
  {
   "cell_type": "code",
   "execution_count": 4,
   "metadata": {
    "collapsed": true
   },
   "outputs": [],
   "source": [
    "police_complaints = pd.read_csv(\"PAC_Complaints_2009_2012.csv\", sep=\",\", parse_dates = True, names= [\"LON_X\", \"LAT_Y\", \"OBJECT_ID\", \"AGE\", \"RACE\", \"SEX\", \"TYPE\", \"DATE\", \"UNIT\", \"ACTION\", \"STATUS\", \"LONG\", \"LAT\"])"
   ]
  },
  {
   "cell_type": "code",
   "execution_count": 5,
   "metadata": {
    "collapsed": true
   },
   "outputs": [],
   "source": [
    "del police_complaints[\"LON_X\"]"
   ]
  },
  {
   "cell_type": "code",
   "execution_count": 6,
   "metadata": {
    "collapsed": false
   },
   "outputs": [],
   "source": [
    "del police_complaints[\"LAT_Y\"]"
   ]
  },
  {
   "cell_type": "markdown",
   "metadata": {},
   "source": [
    "Taking out the first two columns, originally marked as X and Y, as they seem to correspond to the latitude and longitude of a complaint, which are actually also the last two columns of the file."
   ]
  },
  {
   "cell_type": "code",
   "execution_count": 7,
   "metadata": {
    "collapsed": false
   },
   "outputs": [
    {
     "data": {
      "text/html": [
       "<div>\n",
       "<table border=\"1\" class=\"dataframe\">\n",
       "  <thead>\n",
       "    <tr style=\"text-align: right;\">\n",
       "      <th></th>\n",
       "      <th>OBJECT_ID</th>\n",
       "      <th>AGE</th>\n",
       "      <th>RACE</th>\n",
       "      <th>SEX</th>\n",
       "      <th>TYPE</th>\n",
       "      <th>DATE</th>\n",
       "      <th>UNIT</th>\n",
       "      <th>ACTION</th>\n",
       "      <th>STATUS</th>\n",
       "      <th>LONG</th>\n",
       "      <th>LAT</th>\n",
       "    </tr>\n",
       "  </thead>\n",
       "  <tbody>\n",
       "    <tr>\n",
       "      <th>0</th>\n",
       "      <td>OBJECTID_1</td>\n",
       "      <td>AGE</td>\n",
       "      <td>RACE</td>\n",
       "      <td>SEX</td>\n",
       "      <td>TYPE</td>\n",
       "      <td>DATE_</td>\n",
       "      <td>UNIT</td>\n",
       "      <td>ACTION</td>\n",
       "      <td>STATUS</td>\n",
       "      <td>LONG_</td>\n",
       "      <td>LAT</td>\n",
       "    </tr>\n",
       "    <tr>\n",
       "      <th>1</th>\n",
       "      <td>1</td>\n",
       "      <td>51</td>\n",
       "      <td>Black</td>\n",
       "      <td>Female</td>\n",
       "      <td>ABUSE OF AUTHORITY</td>\n",
       "      <td>2011/02/08 00:00:00+00</td>\n",
       "      <td>Airport</td>\n",
       "      <td>Reject</td>\n",
       "      <td>Closed</td>\n",
       "      <td>-75.229307</td>\n",
       "      <td>39.894728</td>\n",
       "    </tr>\n",
       "    <tr>\n",
       "      <th>2</th>\n",
       "      <td>2</td>\n",
       "      <td>45</td>\n",
       "      <td>Black</td>\n",
       "      <td>Male</td>\n",
       "      <td>ABUSE OF AUTHORITY</td>\n",
       "      <td>2011/05/25 00:00:00+00</td>\n",
       "      <td>Airport</td>\n",
       "      <td>Accept</td>\n",
       "      <td>Closed</td>\n",
       "      <td>-75.229307</td>\n",
       "      <td>39.894728</td>\n",
       "    </tr>\n",
       "    <tr>\n",
       "      <th>3</th>\n",
       "      <td>3</td>\n",
       "      <td>38</td>\n",
       "      <td>Black</td>\n",
       "      <td>Female</td>\n",
       "      <td>ABUSE OF AUTHORITY</td>\n",
       "      <td>2011/05/12 00:00:00+00</td>\n",
       "      <td>DET</td>\n",
       "      <td>Accept</td>\n",
       "      <td>Open</td>\n",
       "      <td>-75.23351</td>\n",
       "      <td>39.970535</td>\n",
       "    </tr>\n",
       "    <tr>\n",
       "      <th>4</th>\n",
       "      <td>4</td>\n",
       "      <td>33</td>\n",
       "      <td>Black</td>\n",
       "      <td>Female</td>\n",
       "      <td>NOT CLASSIFIED</td>\n",
       "      <td>2010/05/03 00:00:00+00</td>\n",
       "      <td>UNKNOWN</td>\n",
       "      <td>REJECT</td>\n",
       "      <td>Closed</td>\n",
       "      <td>-75.158592</td>\n",
       "      <td>39.950636</td>\n",
       "    </tr>\n",
       "    <tr>\n",
       "      <th>5</th>\n",
       "      <td>5</td>\n",
       "      <td>43</td>\n",
       "      <td>Black</td>\n",
       "      <td>Female</td>\n",
       "      <td>ABUSE OF AUTHORITY</td>\n",
       "      <td>2011/01/06 00:00:00+00</td>\n",
       "      <td>UNKNOWN</td>\n",
       "      <td>REJECT</td>\n",
       "      <td>Closed</td>\n",
       "      <td>-75.197687</td>\n",
       "      <td>40.015849</td>\n",
       "    </tr>\n",
       "    <tr>\n",
       "      <th>6</th>\n",
       "      <td>6</td>\n",
       "      <td>27</td>\n",
       "      <td>Black</td>\n",
       "      <td>Male</td>\n",
       "      <td>DRUG INVESTIGATIONS</td>\n",
       "      <td>2011/05/03 00:00:00+00</td>\n",
       "      <td>UNKNOWN</td>\n",
       "      <td>Reject</td>\n",
       "      <td>Closed</td>\n",
       "      <td>-75.160347</td>\n",
       "      <td>40.0657</td>\n",
       "    </tr>\n",
       "    <tr>\n",
       "      <th>7</th>\n",
       "      <td>7</td>\n",
       "      <td>49</td>\n",
       "      <td>Black</td>\n",
       "      <td>Male</td>\n",
       "      <td>LACK OF SERVICE</td>\n",
       "      <td>2011/05/24 00:00:00+00</td>\n",
       "      <td>UNKNOWN</td>\n",
       "      <td>Reject</td>\n",
       "      <td>Closed</td>\n",
       "      <td>-75.153429</td>\n",
       "      <td>40.031046</td>\n",
       "    </tr>\n",
       "    <tr>\n",
       "      <th>8</th>\n",
       "      <td>8</td>\n",
       "      <td>44</td>\n",
       "      <td>Hispanic</td>\n",
       "      <td>Female</td>\n",
       "      <td>PHYSICAL ABUSE</td>\n",
       "      <td>2011/07/15 00:00:00+00</td>\n",
       "      <td>UNKNOWN</td>\n",
       "      <td>Accept</td>\n",
       "      <td>Open</td>\n",
       "      <td>-75.128599</td>\n",
       "      <td>40.001902</td>\n",
       "    </tr>\n",
       "    <tr>\n",
       "      <th>9</th>\n",
       "      <td>9</td>\n",
       "      <td>35</td>\n",
       "      <td>Black</td>\n",
       "      <td>Female</td>\n",
       "      <td>POLICE SHOOTINGS</td>\n",
       "      <td>2011/08/10 00:00:00+00</td>\n",
       "      <td>UNKNOWN</td>\n",
       "      <td>Accept</td>\n",
       "      <td>Open</td>\n",
       "      <td>-75.116328</td>\n",
       "      <td>39.989788</td>\n",
       "    </tr>\n",
       "    <tr>\n",
       "      <th>10</th>\n",
       "      <td>10</td>\n",
       "      <td>50</td>\n",
       "      <td>Black</td>\n",
       "      <td>Female</td>\n",
       "      <td>ABUSE OF AUTHORITY</td>\n",
       "      <td>2011/12/16 00:00:00+00</td>\n",
       "      <td>UNKNOWN</td>\n",
       "      <td>NoJurisdiction</td>\n",
       "      <td>Closed</td>\n",
       "      <td>-75.241577</td>\n",
       "      <td>39.926613</td>\n",
       "    </tr>\n",
       "    <tr>\n",
       "      <th>11</th>\n",
       "      <td>11</td>\n",
       "      <td>50</td>\n",
       "      <td>Black</td>\n",
       "      <td>Female</td>\n",
       "      <td>ABUSE OF AUTHORITY</td>\n",
       "      <td>2011/12/16 00:00:00+00</td>\n",
       "      <td>UNKNOWN</td>\n",
       "      <td>NoJurisdiction</td>\n",
       "      <td>Closed</td>\n",
       "      <td>-75.241577</td>\n",
       "      <td>39.926613</td>\n",
       "    </tr>\n",
       "    <tr>\n",
       "      <th>12</th>\n",
       "      <td>12</td>\n",
       "      <td>56</td>\n",
       "      <td>White</td>\n",
       "      <td>Female</td>\n",
       "      <td>ABUSE OF AUTHORITY</td>\n",
       "      <td>2012/09/25 00:00:00+00</td>\n",
       "      <td>UNKNOWN</td>\n",
       "      <td>AUDIT</td>\n",
       "      <td>Open</td>\n",
       "      <td>-75.0437</td>\n",
       "      <td>40.084558</td>\n",
       "    </tr>\n",
       "    <tr>\n",
       "      <th>13</th>\n",
       "      <td>13</td>\n",
       "      <td>18</td>\n",
       "      <td>Black</td>\n",
       "      <td>Male</td>\n",
       "      <td>ABUSE OF AUTHORITY</td>\n",
       "      <td>2009/03/16 00:00:00+00</td>\n",
       "      <td>District 1</td>\n",
       "      <td>REJECT</td>\n",
       "      <td>Closed</td>\n",
       "      <td>-75.18689</td>\n",
       "      <td>39.924038</td>\n",
       "    </tr>\n",
       "    <tr>\n",
       "      <th>14</th>\n",
       "      <td>14</td>\n",
       "      <td>19</td>\n",
       "      <td>White</td>\n",
       "      <td>Male</td>\n",
       "      <td>ABUSE OF AUTHORITY</td>\n",
       "      <td>2009/05/06 00:00:00+00</td>\n",
       "      <td>District 1</td>\n",
       "      <td>REJECT</td>\n",
       "      <td>Closed</td>\n",
       "      <td>-75.172287</td>\n",
       "      <td>39.914297</td>\n",
       "    </tr>\n",
       "    <tr>\n",
       "      <th>15</th>\n",
       "      <td>15</td>\n",
       "      <td>30</td>\n",
       "      <td>White</td>\n",
       "      <td>Female</td>\n",
       "      <td>ABUSE OF AUTHORITY</td>\n",
       "      <td>2009/05/26 00:00:00+00</td>\n",
       "      <td>District 1</td>\n",
       "      <td>AUDIT</td>\n",
       "      <td>Closed</td>\n",
       "      <td>-75.179078</td>\n",
       "      <td>39.921601</td>\n",
       "    </tr>\n",
       "    <tr>\n",
       "      <th>16</th>\n",
       "      <td>16</td>\n",
       "      <td>33</td>\n",
       "      <td>Black</td>\n",
       "      <td>Male</td>\n",
       "      <td>ABUSE OF AUTHORITY</td>\n",
       "      <td>2009/06/01 00:00:00+00</td>\n",
       "      <td>District 1</td>\n",
       "      <td>REJECT</td>\n",
       "      <td>Closed</td>\n",
       "      <td>-75.18689</td>\n",
       "      <td>39.924038</td>\n",
       "    </tr>\n",
       "    <tr>\n",
       "      <th>17</th>\n",
       "      <td>17</td>\n",
       "      <td>30</td>\n",
       "      <td>White</td>\n",
       "      <td>Male</td>\n",
       "      <td>LACK OF SERVICE</td>\n",
       "      <td>2009/06/01 00:00:00+00</td>\n",
       "      <td>District 1</td>\n",
       "      <td>AUDIT</td>\n",
       "      <td>Closed</td>\n",
       "      <td>-75.183298</td>\n",
       "      <td>39.924889</td>\n",
       "    </tr>\n",
       "    <tr>\n",
       "      <th>18</th>\n",
       "      <td>18</td>\n",
       "      <td>47</td>\n",
       "      <td>White</td>\n",
       "      <td>Female</td>\n",
       "      <td>ABUSE OF AUTHORITY</td>\n",
       "      <td>2009/07/06 00:00:00+00</td>\n",
       "      <td>District 1</td>\n",
       "      <td>REJECT</td>\n",
       "      <td>Closed</td>\n",
       "      <td>-75.178977</td>\n",
       "      <td>39.928477</td>\n",
       "    </tr>\n",
       "    <tr>\n",
       "      <th>19</th>\n",
       "      <td>19</td>\n",
       "      <td>53</td>\n",
       "      <td>Black</td>\n",
       "      <td>Male</td>\n",
       "      <td>PHYSICAL ABUSE</td>\n",
       "      <td>2010/02/01 00:00:00+00</td>\n",
       "      <td>District 1</td>\n",
       "      <td>ACCEPT</td>\n",
       "      <td>Open</td>\n",
       "      <td>-75.170571</td>\n",
       "      <td>39.923172</td>\n",
       "    </tr>\n",
       "    <tr>\n",
       "      <th>20</th>\n",
       "      <td>20</td>\n",
       "      <td>63</td>\n",
       "      <td>Black</td>\n",
       "      <td>Female</td>\n",
       "      <td>PHYSICAL ABUSE</td>\n",
       "      <td>2010/03/31 00:00:00+00</td>\n",
       "      <td>District 1</td>\n",
       "      <td>AUDIT</td>\n",
       "      <td>Closed</td>\n",
       "      <td>-75.186979</td>\n",
       "      <td>39.921923</td>\n",
       "    </tr>\n",
       "    <tr>\n",
       "      <th>21</th>\n",
       "      <td>21</td>\n",
       "      <td>41</td>\n",
       "      <td>Black</td>\n",
       "      <td>Male</td>\n",
       "      <td>ABUSE OF AUTHORITY</td>\n",
       "      <td>2010/06/03 00:00:00+00</td>\n",
       "      <td>District 1</td>\n",
       "      <td>AUDIT</td>\n",
       "      <td>Closed</td>\n",
       "      <td>-75.182771</td>\n",
       "      <td>39.926021</td>\n",
       "    </tr>\n",
       "    <tr>\n",
       "      <th>22</th>\n",
       "      <td>22</td>\n",
       "      <td>29</td>\n",
       "      <td>Black</td>\n",
       "      <td>Female</td>\n",
       "      <td>ABUSE OF AUTHORITY</td>\n",
       "      <td>2010/06/15 00:00:00+00</td>\n",
       "      <td>District 1</td>\n",
       "      <td>NAR</td>\n",
       "      <td>Closed</td>\n",
       "      <td>-75.174633</td>\n",
       "      <td>39.91714</td>\n",
       "    </tr>\n",
       "    <tr>\n",
       "      <th>23</th>\n",
       "      <td>23</td>\n",
       "      <td>48</td>\n",
       "      <td>White</td>\n",
       "      <td>Female</td>\n",
       "      <td>ABUSE OF AUTHORITY</td>\n",
       "      <td>2010/06/23 00:00:00+00</td>\n",
       "      <td>District 1</td>\n",
       "      <td>WITHDRAWN</td>\n",
       "      <td>Closed</td>\n",
       "      <td>-75.186081</td>\n",
       "      <td>39.918659</td>\n",
       "    </tr>\n",
       "    <tr>\n",
       "      <th>24</th>\n",
       "      <td>24</td>\n",
       "      <td>52</td>\n",
       "      <td>Black</td>\n",
       "      <td>Female</td>\n",
       "      <td>VERBAL ABUSE</td>\n",
       "      <td>2010/08/09 00:00:00+00</td>\n",
       "      <td>District 1</td>\n",
       "      <td>REJECT</td>\n",
       "      <td>Closed</td>\n",
       "      <td>-75.191008</td>\n",
       "      <td>39.927118</td>\n",
       "    </tr>\n",
       "    <tr>\n",
       "      <th>25</th>\n",
       "      <td>25</td>\n",
       "      <td>31</td>\n",
       "      <td>Black</td>\n",
       "      <td>Male</td>\n",
       "      <td>ABUSE OF AUTHORITY</td>\n",
       "      <td>2010/12/02 00:00:00+00</td>\n",
       "      <td>District 1</td>\n",
       "      <td>ACCEPT</td>\n",
       "      <td>Closed</td>\n",
       "      <td>-75.174601</td>\n",
       "      <td>39.917177</td>\n",
       "    </tr>\n",
       "    <tr>\n",
       "      <th>26</th>\n",
       "      <td>26</td>\n",
       "      <td>58</td>\n",
       "      <td>Black</td>\n",
       "      <td>Female</td>\n",
       "      <td>NOT CLASSIFIED</td>\n",
       "      <td>2011/09/02 00:00:00+00</td>\n",
       "      <td>District 1</td>\n",
       "      <td></td>\n",
       "      <td></td>\n",
       "      <td>-75.179913</td>\n",
       "      <td>39.926914</td>\n",
       "    </tr>\n",
       "    <tr>\n",
       "      <th>27</th>\n",
       "      <td>27</td>\n",
       "      <td>53</td>\n",
       "      <td>White</td>\n",
       "      <td>Female</td>\n",
       "      <td>PHYSICAL ABUSE</td>\n",
       "      <td>2011/09/12 00:00:00+00</td>\n",
       "      <td>District 1</td>\n",
       "      <td>Reject</td>\n",
       "      <td>Closed</td>\n",
       "      <td>-75.166582</td>\n",
       "      <td>39.907111</td>\n",
       "    </tr>\n",
       "    <tr>\n",
       "      <th>28</th>\n",
       "      <td>28</td>\n",
       "      <td>46</td>\n",
       "      <td>White</td>\n",
       "      <td>Male</td>\n",
       "      <td>ABUSE OF AUTHORITY</td>\n",
       "      <td>2012/07/12 00:00:00+00</td>\n",
       "      <td>District 1</td>\n",
       "      <td>AUDIT</td>\n",
       "      <td>OPEN</td>\n",
       "      <td>-75.173758</td>\n",
       "      <td>39.921104</td>\n",
       "    </tr>\n",
       "    <tr>\n",
       "      <th>29</th>\n",
       "      <td>29</td>\n",
       "      <td>54</td>\n",
       "      <td>Black</td>\n",
       "      <td>Female</td>\n",
       "      <td>ABUSE OF AUTHORITY</td>\n",
       "      <td>2012/09/28 00:00:00+00</td>\n",
       "      <td>District 1</td>\n",
       "      <td>AUDIT</td>\n",
       "      <td>Open</td>\n",
       "      <td>-75.183594</td>\n",
       "      <td>39.924926</td>\n",
       "    </tr>\n",
       "    <tr>\n",
       "      <th>...</th>\n",
       "      <td>...</td>\n",
       "      <td>...</td>\n",
       "      <td>...</td>\n",
       "      <td>...</td>\n",
       "      <td>...</td>\n",
       "      <td>...</td>\n",
       "      <td>...</td>\n",
       "      <td>...</td>\n",
       "      <td>...</td>\n",
       "      <td>...</td>\n",
       "      <td>...</td>\n",
       "    </tr>\n",
       "    <tr>\n",
       "      <th>426</th>\n",
       "      <td>426</td>\n",
       "      <td>80</td>\n",
       "      <td>White</td>\n",
       "      <td>Male</td>\n",
       "      <td>LACK OF SERVICE</td>\n",
       "      <td>2010/12/20 00:00:00+00</td>\n",
       "      <td>District 6</td>\n",
       "      <td>REJECT</td>\n",
       "      <td>Closed</td>\n",
       "      <td>-75.161227</td>\n",
       "      <td>39.953128</td>\n",
       "    </tr>\n",
       "    <tr>\n",
       "      <th>427</th>\n",
       "      <td>427</td>\n",
       "      <td>32</td>\n",
       "      <td>Black</td>\n",
       "      <td>Male</td>\n",
       "      <td>ABUSE OF AUTHORITY</td>\n",
       "      <td>2011/05/06 00:00:00+00</td>\n",
       "      <td>District 6</td>\n",
       "      <td>Rejected</td>\n",
       "      <td>Closed</td>\n",
       "      <td>-75.154771</td>\n",
       "      <td>39.960706</td>\n",
       "    </tr>\n",
       "    <tr>\n",
       "      <th>428</th>\n",
       "      <td>428</td>\n",
       "      <td>24</td>\n",
       "      <td>Black</td>\n",
       "      <td>Male</td>\n",
       "      <td>PHYSICAL ABUSE</td>\n",
       "      <td>2012/05/24 00:00:00+00</td>\n",
       "      <td>District 6</td>\n",
       "      <td>ACCEPT</td>\n",
       "      <td>OPEN</td>\n",
       "      <td>-75.159482</td>\n",
       "      <td>39.946327</td>\n",
       "    </tr>\n",
       "    <tr>\n",
       "      <th>429</th>\n",
       "      <td>429</td>\n",
       "      <td>27</td>\n",
       "      <td>White</td>\n",
       "      <td>Male</td>\n",
       "      <td>ABUSE OF AUTHORITY</td>\n",
       "      <td>2010/06/16 00:00:00+00</td>\n",
       "      <td>District 7</td>\n",
       "      <td>ACCEPT</td>\n",
       "      <td>Open</td>\n",
       "      <td>-75.081076</td>\n",
       "      <td>40.079485</td>\n",
       "    </tr>\n",
       "    <tr>\n",
       "      <th>430</th>\n",
       "      <td>430</td>\n",
       "      <td>50</td>\n",
       "      <td>White</td>\n",
       "      <td>Male</td>\n",
       "      <td>ABUSE OF AUTHORITY</td>\n",
       "      <td>2010/06/30 00:00:00+00</td>\n",
       "      <td>District 7</td>\n",
       "      <td>ACCEPT</td>\n",
       "      <td>Open</td>\n",
       "      <td>-75.077036</td>\n",
       "      <td>40.074426</td>\n",
       "    </tr>\n",
       "    <tr>\n",
       "      <th>431</th>\n",
       "      <td>431</td>\n",
       "      <td>23</td>\n",
       "      <td>White</td>\n",
       "      <td>Male</td>\n",
       "      <td>PHYSICAL ABUSE</td>\n",
       "      <td>2010/07/26 00:00:00+00</td>\n",
       "      <td>District 7</td>\n",
       "      <td>REJECT</td>\n",
       "      <td>Closed</td>\n",
       "      <td>-75.076763</td>\n",
       "      <td>40.074272</td>\n",
       "    </tr>\n",
       "    <tr>\n",
       "      <th>432</th>\n",
       "      <td>432</td>\n",
       "      <td>62</td>\n",
       "      <td>White</td>\n",
       "      <td>Male</td>\n",
       "      <td>ABUSE OF AUTHORITY</td>\n",
       "      <td>2010/11/16 00:00:00+00</td>\n",
       "      <td>District 7</td>\n",
       "      <td>REJECT</td>\n",
       "      <td>Closed</td>\n",
       "      <td>-75.043756</td>\n",
       "      <td>40.084788</td>\n",
       "    </tr>\n",
       "    <tr>\n",
       "      <th>433</th>\n",
       "      <td>433</td>\n",
       "      <td>42</td>\n",
       "      <td>Black</td>\n",
       "      <td>Female</td>\n",
       "      <td>ABUSE OF AUTHORITY</td>\n",
       "      <td>2009/01/23 00:00:00+00</td>\n",
       "      <td>District 8</td>\n",
       "      <td>REJECT</td>\n",
       "      <td>Closed</td>\n",
       "      <td>-74.95943</td>\n",
       "      <td>40.086513</td>\n",
       "    </tr>\n",
       "    <tr>\n",
       "      <th>434</th>\n",
       "      <td>434</td>\n",
       "      <td>41</td>\n",
       "      <td>White</td>\n",
       "      <td>Female</td>\n",
       "      <td>ABUSE OF AUTHORITY</td>\n",
       "      <td>2011/02/10 00:00:00+00</td>\n",
       "      <td>District 8</td>\n",
       "      <td>AUDIT</td>\n",
       "      <td>Open</td>\n",
       "      <td>-74.973765</td>\n",
       "      <td>40.084535</td>\n",
       "    </tr>\n",
       "    <tr>\n",
       "      <th>435</th>\n",
       "      <td>435</td>\n",
       "      <td>22</td>\n",
       "      <td>Black</td>\n",
       "      <td>Female</td>\n",
       "      <td>PHYSICAL ABUSE</td>\n",
       "      <td>2011/04/14 00:00:00+00</td>\n",
       "      <td>District 8</td>\n",
       "      <td>Accept</td>\n",
       "      <td>Closed</td>\n",
       "      <td>-74.983051</td>\n",
       "      <td>40.08032</td>\n",
       "    </tr>\n",
       "    <tr>\n",
       "      <th>436</th>\n",
       "      <td>436</td>\n",
       "      <td>57</td>\n",
       "      <td>Black</td>\n",
       "      <td>Male</td>\n",
       "      <td>ABUSE OF AUTHORITY</td>\n",
       "      <td>2009/01/21 00:00:00+00</td>\n",
       "      <td>District 9</td>\n",
       "      <td>REJECT</td>\n",
       "      <td>Closed</td>\n",
       "      <td>-75.183335</td>\n",
       "      <td>39.95482</td>\n",
       "    </tr>\n",
       "    <tr>\n",
       "      <th>437</th>\n",
       "      <td>437</td>\n",
       "      <td>35</td>\n",
       "      <td>Hispanic</td>\n",
       "      <td>Male</td>\n",
       "      <td>ABUSE OF AUTHORITY</td>\n",
       "      <td>2009/02/23 00:00:00+00</td>\n",
       "      <td>District 9</td>\n",
       "      <td>AUDIT</td>\n",
       "      <td>Closed</td>\n",
       "      <td>-75.168326</td>\n",
       "      <td>39.925127</td>\n",
       "    </tr>\n",
       "    <tr>\n",
       "      <th>438</th>\n",
       "      <td>438</td>\n",
       "      <td>45</td>\n",
       "      <td>White</td>\n",
       "      <td>Male</td>\n",
       "      <td>ABUSE OF AUTHORITY</td>\n",
       "      <td>2009/04/07 00:00:00+00</td>\n",
       "      <td>District 9</td>\n",
       "      <td>REJECT</td>\n",
       "      <td>Closed</td>\n",
       "      <td>-75.168215</td>\n",
       "      <td>39.954006</td>\n",
       "    </tr>\n",
       "    <tr>\n",
       "      <th>439</th>\n",
       "      <td>439</td>\n",
       "      <td>24</td>\n",
       "      <td>White</td>\n",
       "      <td>Female</td>\n",
       "      <td>LACK OF SERVICE</td>\n",
       "      <td>2009/04/17 00:00:00+00</td>\n",
       "      <td>District 9</td>\n",
       "      <td>REJECT</td>\n",
       "      <td>Closed</td>\n",
       "      <td>-75.165064</td>\n",
       "      <td>39.95361</td>\n",
       "    </tr>\n",
       "    <tr>\n",
       "      <th>440</th>\n",
       "      <td>440</td>\n",
       "      <td>16</td>\n",
       "      <td>White</td>\n",
       "      <td>Male</td>\n",
       "      <td>ABUSE OF AUTHORITY</td>\n",
       "      <td>2009/08/03 00:00:00+00</td>\n",
       "      <td>District 9</td>\n",
       "      <td>AUDIT</td>\n",
       "      <td>Open</td>\n",
       "      <td>-75.170669</td>\n",
       "      <td>39.950133</td>\n",
       "    </tr>\n",
       "    <tr>\n",
       "      <th>441</th>\n",
       "      <td>441</td>\n",
       "      <td>30</td>\n",
       "      <td>Black</td>\n",
       "      <td>Male</td>\n",
       "      <td>NO MISCONDUCT</td>\n",
       "      <td>2009/08/06 00:00:00+00</td>\n",
       "      <td>District 9</td>\n",
       "      <td>REJECT</td>\n",
       "      <td>Closed</td>\n",
       "      <td>-75.16799</td>\n",
       "      <td>39.95501</td>\n",
       "    </tr>\n",
       "    <tr>\n",
       "      <th>442</th>\n",
       "      <td>442</td>\n",
       "      <td>47</td>\n",
       "      <td>White</td>\n",
       "      <td>Female</td>\n",
       "      <td>ABUSE OF AUTHORITY</td>\n",
       "      <td>2009/08/26 00:00:00+00</td>\n",
       "      <td>District 9</td>\n",
       "      <td>REJECT</td>\n",
       "      <td>Closed</td>\n",
       "      <td>-75.188636</td>\n",
       "      <td>39.969927</td>\n",
       "    </tr>\n",
       "    <tr>\n",
       "      <th>443</th>\n",
       "      <td>443</td>\n",
       "      <td>27</td>\n",
       "      <td>Black</td>\n",
       "      <td>Female</td>\n",
       "      <td>ABUSE OF AUTHORITY</td>\n",
       "      <td>2009/10/20 00:00:00+00</td>\n",
       "      <td>District 9</td>\n",
       "      <td>ACCEPT</td>\n",
       "      <td>Open</td>\n",
       "      <td>-75.173948</td>\n",
       "      <td>39.959004</td>\n",
       "    </tr>\n",
       "    <tr>\n",
       "      <th>444</th>\n",
       "      <td>444</td>\n",
       "      <td>16</td>\n",
       "      <td>Black</td>\n",
       "      <td>Male</td>\n",
       "      <td>PHYSICAL ABUSE</td>\n",
       "      <td>2009/11/05 00:00:00+00</td>\n",
       "      <td>District 9</td>\n",
       "      <td>ACCEPT</td>\n",
       "      <td>Open</td>\n",
       "      <td>-75.160454</td>\n",
       "      <td>39.967064</td>\n",
       "    </tr>\n",
       "    <tr>\n",
       "      <th>445</th>\n",
       "      <td>445</td>\n",
       "      <td>24</td>\n",
       "      <td>White</td>\n",
       "      <td>Male</td>\n",
       "      <td>PHYSICAL ABUSE</td>\n",
       "      <td>2009/11/20 00:00:00+00</td>\n",
       "      <td>District 9</td>\n",
       "      <td>ACCEPT</td>\n",
       "      <td>Closed</td>\n",
       "      <td>-75.165228</td>\n",
       "      <td>39.952578</td>\n",
       "    </tr>\n",
       "    <tr>\n",
       "      <th>446</th>\n",
       "      <td>446</td>\n",
       "      <td>0</td>\n",
       "      <td>Black</td>\n",
       "      <td>Female</td>\n",
       "      <td>PHYSICAL ABUSE</td>\n",
       "      <td>2010/01/27 00:00:00+00</td>\n",
       "      <td>District 9</td>\n",
       "      <td>NAR</td>\n",
       "      <td>Closed</td>\n",
       "      <td>-75.233691</td>\n",
       "      <td>39.976644</td>\n",
       "    </tr>\n",
       "    <tr>\n",
       "      <th>447</th>\n",
       "      <td>447</td>\n",
       "      <td>33</td>\n",
       "      <td>Black</td>\n",
       "      <td>Male</td>\n",
       "      <td>ABUSE OF AUTHORITY</td>\n",
       "      <td>2010/03/07 00:00:00+00</td>\n",
       "      <td>District 9</td>\n",
       "      <td>ACCEPT</td>\n",
       "      <td>Open</td>\n",
       "      <td>-75.206976</td>\n",
       "      <td>39.969103</td>\n",
       "    </tr>\n",
       "    <tr>\n",
       "      <th>448</th>\n",
       "      <td>448</td>\n",
       "      <td>28</td>\n",
       "      <td>Black</td>\n",
       "      <td>Male</td>\n",
       "      <td>ABUSE OF AUTHORITY</td>\n",
       "      <td>2010/03/15 00:00:00+00</td>\n",
       "      <td>District 9</td>\n",
       "      <td>REJECT</td>\n",
       "      <td>Closed</td>\n",
       "      <td>-75.165941</td>\n",
       "      <td>39.949555</td>\n",
       "    </tr>\n",
       "    <tr>\n",
       "      <th>449</th>\n",
       "      <td>449</td>\n",
       "      <td>48</td>\n",
       "      <td>Hispanic</td>\n",
       "      <td>Female</td>\n",
       "      <td>ABUSE OF AUTHORITY</td>\n",
       "      <td>2010/07/21 00:00:00+00</td>\n",
       "      <td>District 9</td>\n",
       "      <td>REJECT</td>\n",
       "      <td>Closed</td>\n",
       "      <td>-75.168009</td>\n",
       "      <td>39.962508</td>\n",
       "    </tr>\n",
       "    <tr>\n",
       "      <th>450</th>\n",
       "      <td>450</td>\n",
       "      <td>43</td>\n",
       "      <td>Black</td>\n",
       "      <td>Male</td>\n",
       "      <td>ABUSE OF AUTHORITY</td>\n",
       "      <td>2010/09/16 00:00:00+00</td>\n",
       "      <td>District 9</td>\n",
       "      <td>AUDIT</td>\n",
       "      <td>Open</td>\n",
       "      <td>-75.209249</td>\n",
       "      <td>40.002413</td>\n",
       "    </tr>\n",
       "    <tr>\n",
       "      <th>451</th>\n",
       "      <td>451</td>\n",
       "      <td>47</td>\n",
       "      <td>Black</td>\n",
       "      <td>Female</td>\n",
       "      <td>ABUSE OF AUTHORITY</td>\n",
       "      <td>2011/01/13 00:00:00+00</td>\n",
       "      <td>District 9</td>\n",
       "      <td></td>\n",
       "      <td>Open</td>\n",
       "      <td>-75.166592</td>\n",
       "      <td>39.969389</td>\n",
       "    </tr>\n",
       "    <tr>\n",
       "      <th>452</th>\n",
       "      <td>452</td>\n",
       "      <td>54</td>\n",
       "      <td>White</td>\n",
       "      <td>Male</td>\n",
       "      <td>ABUSE OF AUTHORITY</td>\n",
       "      <td>2011/02/08 00:00:00+00</td>\n",
       "      <td>District 9</td>\n",
       "      <td>REJECT</td>\n",
       "      <td>Closed</td>\n",
       "      <td>-75.168905</td>\n",
       "      <td>39.958423</td>\n",
       "    </tr>\n",
       "    <tr>\n",
       "      <th>453</th>\n",
       "      <td>453</td>\n",
       "      <td>39</td>\n",
       "      <td>Black</td>\n",
       "      <td>Male</td>\n",
       "      <td>ABUSE OF AUTHORITY</td>\n",
       "      <td>2011/09/14 00:00:00+00</td>\n",
       "      <td>District 9</td>\n",
       "      <td>Audit</td>\n",
       "      <td>Closed</td>\n",
       "      <td>-75.170986</td>\n",
       "      <td>39.963576</td>\n",
       "    </tr>\n",
       "    <tr>\n",
       "      <th>454</th>\n",
       "      <td>454</td>\n",
       "      <td>79</td>\n",
       "      <td>White</td>\n",
       "      <td>Female</td>\n",
       "      <td>LACK OF SERVICE</td>\n",
       "      <td>2012/10/24 00:00:00+00</td>\n",
       "      <td>District 9</td>\n",
       "      <td>AUDIT</td>\n",
       "      <td>Open</td>\n",
       "      <td>-75.173184</td>\n",
       "      <td>39.962499</td>\n",
       "    </tr>\n",
       "    <tr>\n",
       "      <th>455</th>\n",
       "      <td>455</td>\n",
       "      <td>29</td>\n",
       "      <td>Black</td>\n",
       "      <td>Female</td>\n",
       "      <td>NON-JURISDICTIONAL</td>\n",
       "      <td>2012/12/04 00:00:00+00</td>\n",
       "      <td>FJD Warrant Unit</td>\n",
       "      <td>REJECT</td>\n",
       "      <td>Closed</td>\n",
       "      <td>-75.176477</td>\n",
       "      <td>39.986008</td>\n",
       "    </tr>\n",
       "  </tbody>\n",
       "</table>\n",
       "<p>456 rows × 11 columns</p>\n",
       "</div>"
      ],
      "text/plain": [
       "      OBJECT_ID  AGE      RACE     SEX                 TYPE  \\\n",
       "0    OBJECTID_1  AGE      RACE     SEX                 TYPE   \n",
       "1             1   51     Black  Female   ABUSE OF AUTHORITY   \n",
       "2             2   45     Black    Male   ABUSE OF AUTHORITY   \n",
       "3             3   38     Black  Female   ABUSE OF AUTHORITY   \n",
       "4             4   33     Black  Female       NOT CLASSIFIED   \n",
       "5             5   43     Black  Female   ABUSE OF AUTHORITY   \n",
       "6             6   27     Black    Male  DRUG INVESTIGATIONS   \n",
       "7             7   49     Black    Male      LACK OF SERVICE   \n",
       "8             8   44  Hispanic  Female       PHYSICAL ABUSE   \n",
       "9             9   35     Black  Female     POLICE SHOOTINGS   \n",
       "10           10   50     Black  Female   ABUSE OF AUTHORITY   \n",
       "11           11   50     Black  Female   ABUSE OF AUTHORITY   \n",
       "12           12   56     White  Female   ABUSE OF AUTHORITY   \n",
       "13           13   18     Black    Male   ABUSE OF AUTHORITY   \n",
       "14           14   19     White    Male   ABUSE OF AUTHORITY   \n",
       "15           15   30     White  Female   ABUSE OF AUTHORITY   \n",
       "16           16   33     Black    Male   ABUSE OF AUTHORITY   \n",
       "17           17   30     White    Male      LACK OF SERVICE   \n",
       "18           18   47     White  Female   ABUSE OF AUTHORITY   \n",
       "19           19   53     Black    Male       PHYSICAL ABUSE   \n",
       "20           20   63     Black  Female       PHYSICAL ABUSE   \n",
       "21           21   41     Black    Male   ABUSE OF AUTHORITY   \n",
       "22           22   29     Black  Female   ABUSE OF AUTHORITY   \n",
       "23           23   48     White  Female   ABUSE OF AUTHORITY   \n",
       "24           24   52     Black  Female         VERBAL ABUSE   \n",
       "25           25   31     Black    Male   ABUSE OF AUTHORITY   \n",
       "26           26   58     Black  Female       NOT CLASSIFIED   \n",
       "27           27   53     White  Female       PHYSICAL ABUSE   \n",
       "28           28   46     White    Male   ABUSE OF AUTHORITY   \n",
       "29           29   54     Black  Female   ABUSE OF AUTHORITY   \n",
       "..          ...  ...       ...     ...                  ...   \n",
       "426         426   80     White    Male      LACK OF SERVICE   \n",
       "427         427   32     Black    Male   ABUSE OF AUTHORITY   \n",
       "428         428   24     Black    Male       PHYSICAL ABUSE   \n",
       "429         429   27     White    Male   ABUSE OF AUTHORITY   \n",
       "430         430   50     White    Male   ABUSE OF AUTHORITY   \n",
       "431         431   23     White    Male       PHYSICAL ABUSE   \n",
       "432         432   62     White    Male   ABUSE OF AUTHORITY   \n",
       "433         433   42     Black  Female   ABUSE OF AUTHORITY   \n",
       "434         434   41     White  Female   ABUSE OF AUTHORITY   \n",
       "435         435   22     Black  Female       PHYSICAL ABUSE   \n",
       "436         436   57     Black    Male   ABUSE OF AUTHORITY   \n",
       "437         437   35  Hispanic    Male   ABUSE OF AUTHORITY   \n",
       "438         438   45     White    Male   ABUSE OF AUTHORITY   \n",
       "439         439   24     White  Female      LACK OF SERVICE   \n",
       "440         440   16     White    Male   ABUSE OF AUTHORITY   \n",
       "441         441   30     Black    Male        NO MISCONDUCT   \n",
       "442         442   47     White  Female   ABUSE OF AUTHORITY   \n",
       "443         443   27     Black  Female   ABUSE OF AUTHORITY   \n",
       "444         444   16     Black    Male       PHYSICAL ABUSE   \n",
       "445         445   24     White    Male       PHYSICAL ABUSE   \n",
       "446         446    0     Black  Female       PHYSICAL ABUSE   \n",
       "447         447   33     Black    Male   ABUSE OF AUTHORITY   \n",
       "448         448   28     Black    Male   ABUSE OF AUTHORITY   \n",
       "449         449   48  Hispanic  Female   ABUSE OF AUTHORITY   \n",
       "450         450   43     Black    Male   ABUSE OF AUTHORITY   \n",
       "451         451   47     Black  Female   ABUSE OF AUTHORITY   \n",
       "452         452   54     White    Male   ABUSE OF AUTHORITY   \n",
       "453         453   39     Black    Male   ABUSE OF AUTHORITY   \n",
       "454         454   79     White  Female      LACK OF SERVICE   \n",
       "455         455   29     Black  Female   NON-JURISDICTIONAL   \n",
       "\n",
       "                       DATE              UNIT          ACTION  STATUS  \\\n",
       "0                     DATE_              UNIT          ACTION  STATUS   \n",
       "1    2011/02/08 00:00:00+00           Airport          Reject  Closed   \n",
       "2    2011/05/25 00:00:00+00           Airport          Accept  Closed   \n",
       "3    2011/05/12 00:00:00+00               DET          Accept    Open   \n",
       "4    2010/05/03 00:00:00+00           UNKNOWN          REJECT  Closed   \n",
       "5    2011/01/06 00:00:00+00           UNKNOWN          REJECT  Closed   \n",
       "6    2011/05/03 00:00:00+00           UNKNOWN          Reject  Closed   \n",
       "7    2011/05/24 00:00:00+00           UNKNOWN          Reject  Closed   \n",
       "8    2011/07/15 00:00:00+00           UNKNOWN          Accept    Open   \n",
       "9    2011/08/10 00:00:00+00           UNKNOWN          Accept    Open   \n",
       "10   2011/12/16 00:00:00+00           UNKNOWN  NoJurisdiction  Closed   \n",
       "11   2011/12/16 00:00:00+00           UNKNOWN  NoJurisdiction  Closed   \n",
       "12   2012/09/25 00:00:00+00           UNKNOWN           AUDIT    Open   \n",
       "13   2009/03/16 00:00:00+00        District 1          REJECT  Closed   \n",
       "14   2009/05/06 00:00:00+00        District 1          REJECT  Closed   \n",
       "15   2009/05/26 00:00:00+00        District 1           AUDIT  Closed   \n",
       "16   2009/06/01 00:00:00+00        District 1          REJECT  Closed   \n",
       "17   2009/06/01 00:00:00+00        District 1           AUDIT  Closed   \n",
       "18   2009/07/06 00:00:00+00        District 1          REJECT  Closed   \n",
       "19   2010/02/01 00:00:00+00        District 1          ACCEPT    Open   \n",
       "20   2010/03/31 00:00:00+00        District 1           AUDIT  Closed   \n",
       "21   2010/06/03 00:00:00+00        District 1           AUDIT  Closed   \n",
       "22   2010/06/15 00:00:00+00        District 1             NAR  Closed   \n",
       "23   2010/06/23 00:00:00+00        District 1       WITHDRAWN  Closed   \n",
       "24   2010/08/09 00:00:00+00        District 1          REJECT  Closed   \n",
       "25   2010/12/02 00:00:00+00        District 1          ACCEPT  Closed   \n",
       "26   2011/09/02 00:00:00+00        District 1                           \n",
       "27   2011/09/12 00:00:00+00        District 1          Reject  Closed   \n",
       "28   2012/07/12 00:00:00+00        District 1           AUDIT    OPEN   \n",
       "29   2012/09/28 00:00:00+00        District 1           AUDIT    Open   \n",
       "..                      ...               ...             ...     ...   \n",
       "426  2010/12/20 00:00:00+00        District 6          REJECT  Closed   \n",
       "427  2011/05/06 00:00:00+00        District 6        Rejected  Closed   \n",
       "428  2012/05/24 00:00:00+00        District 6          ACCEPT    OPEN   \n",
       "429  2010/06/16 00:00:00+00        District 7          ACCEPT    Open   \n",
       "430  2010/06/30 00:00:00+00        District 7          ACCEPT    Open   \n",
       "431  2010/07/26 00:00:00+00        District 7          REJECT  Closed   \n",
       "432  2010/11/16 00:00:00+00        District 7          REJECT  Closed   \n",
       "433  2009/01/23 00:00:00+00        District 8          REJECT  Closed   \n",
       "434  2011/02/10 00:00:00+00        District 8           AUDIT    Open   \n",
       "435  2011/04/14 00:00:00+00        District 8          Accept  Closed   \n",
       "436  2009/01/21 00:00:00+00        District 9          REJECT  Closed   \n",
       "437  2009/02/23 00:00:00+00        District 9           AUDIT  Closed   \n",
       "438  2009/04/07 00:00:00+00        District 9          REJECT  Closed   \n",
       "439  2009/04/17 00:00:00+00        District 9          REJECT  Closed   \n",
       "440  2009/08/03 00:00:00+00        District 9           AUDIT    Open   \n",
       "441  2009/08/06 00:00:00+00        District 9          REJECT  Closed   \n",
       "442  2009/08/26 00:00:00+00        District 9          REJECT  Closed   \n",
       "443  2009/10/20 00:00:00+00        District 9          ACCEPT    Open   \n",
       "444  2009/11/05 00:00:00+00        District 9          ACCEPT    Open   \n",
       "445  2009/11/20 00:00:00+00        District 9          ACCEPT  Closed   \n",
       "446  2010/01/27 00:00:00+00        District 9             NAR  Closed   \n",
       "447  2010/03/07 00:00:00+00        District 9          ACCEPT    Open   \n",
       "448  2010/03/15 00:00:00+00        District 9          REJECT  Closed   \n",
       "449  2010/07/21 00:00:00+00        District 9          REJECT  Closed   \n",
       "450  2010/09/16 00:00:00+00        District 9           AUDIT    Open   \n",
       "451  2011/01/13 00:00:00+00        District 9                    Open   \n",
       "452  2011/02/08 00:00:00+00        District 9          REJECT  Closed   \n",
       "453  2011/09/14 00:00:00+00        District 9           Audit  Closed   \n",
       "454  2012/10/24 00:00:00+00        District 9           AUDIT    Open   \n",
       "455  2012/12/04 00:00:00+00  FJD Warrant Unit          REJECT  Closed   \n",
       "\n",
       "           LONG        LAT  \n",
       "0         LONG_        LAT  \n",
       "1    -75.229307  39.894728  \n",
       "2    -75.229307  39.894728  \n",
       "3     -75.23351  39.970535  \n",
       "4    -75.158592  39.950636  \n",
       "5    -75.197687  40.015849  \n",
       "6    -75.160347    40.0657  \n",
       "7    -75.153429  40.031046  \n",
       "8    -75.128599  40.001902  \n",
       "9    -75.116328  39.989788  \n",
       "10   -75.241577  39.926613  \n",
       "11   -75.241577  39.926613  \n",
       "12     -75.0437  40.084558  \n",
       "13    -75.18689  39.924038  \n",
       "14   -75.172287  39.914297  \n",
       "15   -75.179078  39.921601  \n",
       "16    -75.18689  39.924038  \n",
       "17   -75.183298  39.924889  \n",
       "18   -75.178977  39.928477  \n",
       "19   -75.170571  39.923172  \n",
       "20   -75.186979  39.921923  \n",
       "21   -75.182771  39.926021  \n",
       "22   -75.174633   39.91714  \n",
       "23   -75.186081  39.918659  \n",
       "24   -75.191008  39.927118  \n",
       "25   -75.174601  39.917177  \n",
       "26   -75.179913  39.926914  \n",
       "27   -75.166582  39.907111  \n",
       "28   -75.173758  39.921104  \n",
       "29   -75.183594  39.924926  \n",
       "..          ...        ...  \n",
       "426  -75.161227  39.953128  \n",
       "427  -75.154771  39.960706  \n",
       "428  -75.159482  39.946327  \n",
       "429  -75.081076  40.079485  \n",
       "430  -75.077036  40.074426  \n",
       "431  -75.076763  40.074272  \n",
       "432  -75.043756  40.084788  \n",
       "433   -74.95943  40.086513  \n",
       "434  -74.973765  40.084535  \n",
       "435  -74.983051   40.08032  \n",
       "436  -75.183335   39.95482  \n",
       "437  -75.168326  39.925127  \n",
       "438  -75.168215  39.954006  \n",
       "439  -75.165064   39.95361  \n",
       "440  -75.170669  39.950133  \n",
       "441   -75.16799   39.95501  \n",
       "442  -75.188636  39.969927  \n",
       "443  -75.173948  39.959004  \n",
       "444  -75.160454  39.967064  \n",
       "445  -75.165228  39.952578  \n",
       "446  -75.233691  39.976644  \n",
       "447  -75.206976  39.969103  \n",
       "448  -75.165941  39.949555  \n",
       "449  -75.168009  39.962508  \n",
       "450  -75.209249  40.002413  \n",
       "451  -75.166592  39.969389  \n",
       "452  -75.168905  39.958423  \n",
       "453  -75.170986  39.963576  \n",
       "454  -75.173184  39.962499  \n",
       "455  -75.176477  39.986008  \n",
       "\n",
       "[456 rows x 11 columns]"
      ]
     },
     "execution_count": 7,
     "metadata": {},
     "output_type": "execute_result"
    }
   ],
   "source": [
    "police_complaints"
   ]
  },
  {
   "cell_type": "code",
   "execution_count": 8,
   "metadata": {
    "collapsed": false
   },
   "outputs": [
    {
     "data": {
      "text/plain": [
       "129"
      ]
     },
     "execution_count": 8,
     "metadata": {},
     "output_type": "execute_result"
    }
   ],
   "source": [
    "sum(police_complaints[\"TYPE\"] == \"PHYSICAL ABUSE\") "
   ]
  },
  {
   "cell_type": "markdown",
   "metadata": {},
   "source": [
    "I wanted to see how many complaints were about physical abuse. 129 complaints out of 455"
   ]
  },
  {
   "cell_type": "code",
   "execution_count": 9,
   "metadata": {
    "collapsed": false
   },
   "outputs": [
    {
     "data": {
      "text/plain": [
       "28.35164835164835"
      ]
     },
     "execution_count": 9,
     "metadata": {},
     "output_type": "execute_result"
    }
   ],
   "source": [
    "sum(police_complaints[\"TYPE\"] == \"PHYSICAL ABUSE\") / 455 * 100"
   ]
  },
  {
   "cell_type": "markdown",
   "metadata": {},
   "source": [
    "So that's 28.35% of complaints against police were about physical abuse"
   ]
  },
  {
   "cell_type": "code",
   "execution_count": 10,
   "metadata": {
    "collapsed": false
   },
   "outputs": [],
   "source": [
    "physical_abuse = police_complaints[police_complaints[\"TYPE\"] == \"PHYSICAL ABUSE\"]"
   ]
  },
  {
   "cell_type": "code",
   "execution_count": 11,
   "metadata": {
    "collapsed": true
   },
   "outputs": [],
   "source": [
    "long = physical_abuse[\"LONG\"].replace({r'\\\\r': ''}, regex=True)"
   ]
  },
  {
   "cell_type": "code",
   "execution_count": 12,
   "metadata": {
    "collapsed": true
   },
   "outputs": [],
   "source": [
    "lat = physical_abuse[\"LAT\"].replace({r'\\\\r': ''}, regex=True)"
   ]
  },
  {
   "cell_type": "code",
   "execution_count": 13,
   "metadata": {
    "collapsed": false
   },
   "outputs": [
    {
     "data": {
      "text/plain": [
       "<matplotlib.collections.PathCollection at 0x10df85d30>"
      ]
     },
     "execution_count": 13,
     "metadata": {},
     "output_type": "execute_result"
    }
   ],
   "source": [
    "plt.scatter(pd.to_numeric(long), pd.to_numeric(lat), color=\"red\")"
   ]
  },
  {
   "cell_type": "code",
   "execution_count": 14,
   "metadata": {
    "collapsed": false
   },
   "outputs": [
    {
     "data": {
      "text/plain": [
       "<matplotlib.text.Text at 0x10d030a90>"
      ]
     },
     "execution_count": 14,
     "metadata": {},
     "output_type": "execute_result"
    }
   ],
   "source": [
    "plt.title(\"Complaints of Physical Abuse by Police across Philadelphia\")"
   ]
  },
  {
   "cell_type": "code",
   "execution_count": 15,
   "metadata": {
    "collapsed": false
   },
   "outputs": [
    {
     "data": {
      "text/plain": [
       "<matplotlib.text.Text at 0x110ba84e0>"
      ]
     },
     "execution_count": 15,
     "metadata": {},
     "output_type": "execute_result"
    }
   ],
   "source": [
    "plt.xlabel(\"Longitude\")"
   ]
  },
  {
   "cell_type": "code",
   "execution_count": 16,
   "metadata": {
    "collapsed": false
   },
   "outputs": [
    {
     "data": {
      "text/plain": [
       "<matplotlib.text.Text at 0x10d0064e0>"
      ]
     },
     "execution_count": 16,
     "metadata": {},
     "output_type": "execute_result"
    }
   ],
   "source": [
    "plt.ylabel(\"Latitude\")"
   ]
  },
  {
   "cell_type": "code",
   "execution_count": 17,
   "metadata": {
    "collapsed": false
   },
   "outputs": [
    {
     "data": {
      "text/plain": [
       "[<matplotlib.lines.Line2D at 0x10fc37ba8>]"
      ]
     },
     "execution_count": 17,
     "metadata": {},
     "output_type": "execute_result"
    }
   ],
   "source": [
    "city_hall_lon = -75.163894\n",
    "city_hall_lat = 39.952247\n",
    "plt.plot(pd.to_numeric(city_hall_lon), pd.to_numeric(city_hall_lat), 'bd', markersize=12)"
   ]
  },
  {
   "cell_type": "code",
   "execution_count": 18,
   "metadata": {
    "collapsed": false
   },
   "outputs": [
    {
     "data": {
      "image/png": "[encoded data removed]",
      "text/plain": [
       "<matplotlib.figure.Figure at 0x10cfcbe48>"
      ]
     },
     "metadata": {},
     "output_type": "display_data"
    }
   ],
   "source": [
    "plt.show()"
   ]
  },
  {
   "cell_type": "markdown",
   "metadata": {},
   "source": [
    "For my first successful plotting of data from this set, I looked at complaints filed against police for physical abuse, plotted by latitude and longitude and marked in red dots. I dropped a blue diamond to show City Hall, which is considered the city center, though the city actually extends farther north and east than it does south. The highest largest concentration of these complaints were in West Phladephia, roughly starting in the Mantua neighborhood and west into Overbrook. The next largest pocket, to the nother and east of City Hall, roughly corresponds to Frankford and Kensington neighborhoods in Philadelphia's Northeast. Both are on the lower end of the socieconomic bracket, and roughly speaking, the West Philly neighborhoods are predmoninately minorities, and the Northeast area is mostly white. Notably, the absence of complaints to the west of City Hall roughly corresponds to Center City West, which is more office buildings and skyscrapers; the Art Museum, Schuylkill riverside and their surounding neighborhoods; and University City in West Philadelphia, where Drexel and University of Pennsylvania are."
   ]
  },
  {
   "cell_type": "code",
   "execution_count": 19,
   "metadata": {
    "collapsed": false
   },
   "outputs": [],
   "source": [
    "plt.clf()"
   ]
  },
  {
   "cell_type": "code",
   "execution_count": 20,
   "metadata": {
    "collapsed": false
   },
   "outputs": [],
   "source": [
    "male_long = [long[police_complaints[\"SEX\"] == \"Male\"]]"
   ]
  },
  {
   "cell_type": "code",
   "execution_count": 21,
   "metadata": {
    "collapsed": true
   },
   "outputs": [],
   "source": [
    "male_lat = [lat[police_complaints[\"SEX\"] == \"Male\"]]"
   ]
  },
  {
   "cell_type": "code",
   "execution_count": 22,
   "metadata": {
    "collapsed": false
   },
   "outputs": [],
   "source": [
    "female_long = [long[police_complaints[\"SEX\"] == \"Female\"]]"
   ]
  },
  {
   "cell_type": "code",
   "execution_count": 23,
   "metadata": {
    "collapsed": false
   },
   "outputs": [],
   "source": [
    "female_lat = [lat[police_complaints[\"SEX\"] == \"Female\"]]"
   ]
  },
  {
   "cell_type": "code",
   "execution_count": 24,
   "metadata": {
    "collapsed": false
   },
   "outputs": [],
   "source": [
    "fig, ax = plt.subplots()"
   ]
  },
  {
   "cell_type": "code",
   "execution_count": 25,
   "metadata": {
    "collapsed": false,
    "scrolled": true
   },
   "outputs": [
    {
     "data": {
      "text/plain": [
       "<matplotlib.collections.PathCollection at 0x110d8fba8>"
      ]
     },
     "execution_count": 25,
     "metadata": {},
     "output_type": "execute_result"
    }
   ],
   "source": [
    "plt.scatter(male_long, male_lat, color=\"blue\")"
   ]
  },
  {
   "cell_type": "code",
   "execution_count": 26,
   "metadata": {
    "collapsed": false
   },
   "outputs": [
    {
     "data": {
      "text/plain": [
       "<matplotlib.collections.PathCollection at 0x110d97320>"
      ]
     },
     "execution_count": 26,
     "metadata": {},
     "output_type": "execute_result"
    }
   ],
   "source": [
    "plt.scatter(female_long, female_lat, color=\"green\")"
   ]
  },
  {
   "cell_type": "code",
   "execution_count": 27,
   "metadata": {
    "collapsed": false
   },
   "outputs": [
    {
     "data": {
      "text/plain": [
       "<matplotlib.text.Text at 0x10de9b2b0>"
      ]
     },
     "execution_count": 27,
     "metadata": {},
     "output_type": "execute_result"
    }
   ],
   "source": [
    "plt.xlabel(\"Longitude\")"
   ]
  },
  {
   "cell_type": "code",
   "execution_count": 28,
   "metadata": {
    "collapsed": false
   },
   "outputs": [
    {
     "data": {
      "text/plain": [
       "<matplotlib.text.Text at 0x10decf8d0>"
      ]
     },
     "execution_count": 28,
     "metadata": {},
     "output_type": "execute_result"
    }
   ],
   "source": [
    "plt.ylabel(\"Latitude\")"
   ]
  },
  {
   "cell_type": "code",
   "execution_count": 29,
   "metadata": {
    "collapsed": false
   },
   "outputs": [
    {
     "data": {
      "text/plain": [
       "[<matplotlib.lines.Line2D at 0x110d9f208>]"
      ]
     },
     "execution_count": 29,
     "metadata": {},
     "output_type": "execute_result"
    }
   ],
   "source": [
    "city_hall_lon = -75.163894\n",
    "city_hall_lat = 39.952247\n",
    "plt.plot(pd.to_numeric(city_hall_lon), pd.to_numeric(city_hall_lat), 'rd', markersize=12)"
   ]
  },
  {
   "cell_type": "code",
   "execution_count": 30,
   "metadata": {
    "collapsed": false
   },
   "outputs": [
    {
     "data": {
      "text/plain": [
       "<matplotlib.text.Text at 0x110c6deb8>"
      ]
     },
     "execution_count": 30,
     "metadata": {},
     "output_type": "execute_result"
    }
   ],
   "source": [
    "plt.title(\"Police Physical Abuse Complaints by Sex\")"
   ]
  },
  {
   "cell_type": "code",
   "execution_count": 31,
   "metadata": {
    "collapsed": false
   },
   "outputs": [
    {
     "data": {
      "text/plain": [
       "<matplotlib.figure.Figure at 0x10cfcbf60>"
      ]
     },
     "metadata": {},
     "output_type": "display_data"
    },
    {
     "data": {
      "image/png": "[encoded data removed]",
      "text/plain": [
       "<matplotlib.figure.Figure at 0x10de6deb8>"
      ]
     },
     "metadata": {},
     "output_type": "display_data"
    }
   ],
   "source": [
    "plt.show()"
   ]
  },
  {
   "cell_type": "code",
   "execution_count": 32,
   "metadata": {
    "collapsed": false
   },
   "outputs": [
    {
     "data": {
      "text/plain": [
       "76"
      ]
     },
     "execution_count": 32,
     "metadata": {},
     "output_type": "execute_result"
    }
   ],
   "source": [
    "len(long[police_complaints[\"SEX\"] == \"Male\"])"
   ]
  },
  {
   "cell_type": "code",
   "execution_count": 33,
   "metadata": {
    "collapsed": false
   },
   "outputs": [
    {
     "data": {
      "text/plain": [
       "53"
      ]
     },
     "execution_count": 33,
     "metadata": {},
     "output_type": "execute_result"
    }
   ],
   "source": [
    "len(long[police_complaints[\"SEX\"] == \"Female\"])"
   ]
  },
  {
   "cell_type": "markdown",
   "metadata": {},
   "source": [
    "I thought I'd try to break down the complaints by the sex of the complainant. It doesn't yield that much more interesting information; on the numbers which don't visualize all that well, men filed complaints against police for physical abuse 50 percent more than women did. The graph does visualize well that the larger concentrations of women who filed such complaints were in the same areas as men. However, one notable concentration of female complaints is on a slightly diagonal line, starting from about -75.15, 39.90 and to the east; this is also roughly the Kensington area and could be below the elevated train; the area in general has long been known for heroin and prostitution, especially under the El train tracks, so it's possible to infer that these complaints could have been filed by sex workers."
   ]
  },
  {
   "cell_type": "code",
   "execution_count": 34,
   "metadata": {
    "collapsed": true
   },
   "outputs": [],
   "source": [
    "plt.clf()"
   ]
  },
  {
   "cell_type": "code",
   "execution_count": 35,
   "metadata": {
    "collapsed": true
   },
   "outputs": [],
   "source": [
    "POC = physical_abuse[physical_abuse[\"RACE\"] != \"White\"]"
   ]
  },
  {
   "cell_type": "code",
   "execution_count": 36,
   "metadata": {
    "collapsed": false
   },
   "outputs": [],
   "source": [
    "white = physical_abuse[physical_abuse[\"RACE\"] == \"White\"]"
   ]
  },
  {
   "cell_type": "code",
   "execution_count": 37,
   "metadata": {
    "collapsed": false
   },
   "outputs": [
    {
     "data": {
      "text/plain": [
       "14"
      ]
     },
     "execution_count": 37,
     "metadata": {},
     "output_type": "execute_result"
    }
   ],
   "source": [
    "len(white)"
   ]
  },
  {
   "cell_type": "code",
   "execution_count": 38,
   "metadata": {
    "collapsed": false
   },
   "outputs": [
    {
     "data": {
      "text/plain": [
       "115"
      ]
     },
     "execution_count": 38,
     "metadata": {},
     "output_type": "execute_result"
    }
   ],
   "source": [
    "len(POC)"
   ]
  },
  {
   "cell_type": "code",
   "execution_count": 39,
   "metadata": {
    "collapsed": false
   },
   "outputs": [],
   "source": [
    "POC_long = [long[police_complaints[\"RACE\"] != \"White\"]]"
   ]
  },
  {
   "cell_type": "code",
   "execution_count": 40,
   "metadata": {
    "collapsed": false
   },
   "outputs": [],
   "source": [
    "POC_lat = [lat[police_complaints[\"RACE\"] != \"White\"]]"
   ]
  },
  {
   "cell_type": "code",
   "execution_count": 41,
   "metadata": {
    "collapsed": false
   },
   "outputs": [],
   "source": [
    "white_long = [long[police_complaints[\"RACE\"] == \"White\"]]"
   ]
  },
  {
   "cell_type": "code",
   "execution_count": 42,
   "metadata": {
    "collapsed": false
   },
   "outputs": [],
   "source": [
    "white_lat = [lat[police_complaints[\"RACE\"] == \"White\"]]"
   ]
  },
  {
   "cell_type": "code",
   "execution_count": 43,
   "metadata": {
    "collapsed": false
   },
   "outputs": [],
   "source": [
    "fig, ax = plt.subplots()"
   ]
  },
  {
   "cell_type": "code",
   "execution_count": 44,
   "metadata": {
    "collapsed": false
   },
   "outputs": [
    {
     "data": {
      "text/plain": [
       "<matplotlib.collections.PathCollection at 0x110ea18d0>"
      ]
     },
     "execution_count": 44,
     "metadata": {},
     "output_type": "execute_result"
    }
   ],
   "source": [
    "plt.scatter(POC_long, POC_lat, color=\"blue\")"
   ]
  },
  {
   "cell_type": "code",
   "execution_count": 45,
   "metadata": {
    "collapsed": false
   },
   "outputs": [
    {
     "data": {
      "text/plain": [
       "<matplotlib.collections.PathCollection at 0x110eab4e0>"
      ]
     },
     "execution_count": 45,
     "metadata": {},
     "output_type": "execute_result"
    }
   ],
   "source": [
    "plt.scatter(white_long, white_lat, color=\"green\")"
   ]
  },
  {
   "cell_type": "code",
   "execution_count": 46,
   "metadata": {
    "collapsed": false
   },
   "outputs": [
    {
     "data": {
      "text/plain": [
       "[<matplotlib.lines.Line2D at 0x110eb2080>]"
      ]
     },
     "execution_count": 46,
     "metadata": {},
     "output_type": "execute_result"
    }
   ],
   "source": [
    "city_hall_lon = -75.163894\n",
    "city_hall_lat = 39.952247\n",
    "plt.plot(pd.to_numeric(city_hall_lon), pd.to_numeric(city_hall_lat), 'rd', markersize=12)"
   ]
  },
  {
   "cell_type": "code",
   "execution_count": 47,
   "metadata": {
    "collapsed": false
   },
   "outputs": [
    {
     "data": {
      "text/plain": [
       "<matplotlib.text.Text at 0x110e02da0>"
      ]
     },
     "execution_count": 47,
     "metadata": {},
     "output_type": "execute_result"
    }
   ],
   "source": [
    "plt.title(\"Police Physical Abuse Complaints by Race\")"
   ]
  },
  {
   "cell_type": "code",
   "execution_count": 48,
   "metadata": {
    "collapsed": false
   },
   "outputs": [
    {
     "data": {
      "text/plain": [
       "<matplotlib.text.Text at 0x110dbaf28>"
      ]
     },
     "execution_count": 48,
     "metadata": {},
     "output_type": "execute_result"
    }
   ],
   "source": [
    "plt.xlabel(\"Longitude\")"
   ]
  },
  {
   "cell_type": "code",
   "execution_count": 49,
   "metadata": {
    "collapsed": false
   },
   "outputs": [
    {
     "data": {
      "text/plain": [
       "<matplotlib.text.Text at 0x10de84358>"
      ]
     },
     "execution_count": 49,
     "metadata": {},
     "output_type": "execute_result"
    }
   ],
   "source": [
    "plt.ylabel(\"Latitude\")"
   ]
  },
  {
   "cell_type": "code",
   "execution_count": 50,
   "metadata": {
    "collapsed": false
   },
   "outputs": [
    {
     "data": {
      "text/plain": [
       "<matplotlib.figure.Figure at 0x110da8c50>"
      ]
     },
     "metadata": {},
     "output_type": "display_data"
    },
    {
     "data": {
      "image/png": "[encoded data removed]",
      "text/plain": [
       "<matplotlib.figure.Figure at 0x10dec2358>"
      ]
     },
     "metadata": {},
     "output_type": "display_data"
    }
   ],
   "source": [
    "plt.show()"
   ]
  },
  {
   "cell_type": "markdown",
   "metadata": {},
   "source": [
    "Breaking the same bit of data by race, or rather, white and non-white, shows very few complaints filed by white people. I chose to split it binary this way because the city is roughly 45% white and 44% black, according to the [2010 US Census](https://www.census.gov/quickfacts/table/RHI125215/4260000,00) The largest concentration of complaints by whites are in the far Northeast, which is mostly white. The next cluster of complaints by whites are in South Philadelphia east of City Hall, which is roughly an area known for Italian neighborhoods and working-class whites (not necessarily the same neighborhoods). Nonwhites, however, basically filed complaints against police for physical abuse all over the city. "
   ]
  }
 ],
 "metadata": {
  "kernelspec": {
   "display_name": "Python 3",
   "language": "python",
   "name": "python3"
  },
  "language_info": {
   "codemirror_mode": {
    "name": "ipython",
    "version": 3
   },
   "file_extension": ".py",
   "mimetype": "text/x-python",
   "name": "python",
   "nbconvert_exporter": "python",
   "pygments_lexer": "ipython3",
   "version": "3.6.0"
  }
 },
 "nbformat": 4,
 "nbformat_minor": 2
}
